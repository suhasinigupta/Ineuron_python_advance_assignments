{
 "cells": [
  {
   "cell_type": "markdown",
   "id": "841466b2",
   "metadata": {},
   "source": [
    "### 1. What is the concept of an abstract superclass?\n",
    "An abstract class can be considered as a blueprint for other classes. It allows you to create a set of methods that must be created within any child classes built from the abstract class .\n",
    "In general , abstract class is a class that cannot be instantiated and is used to state or define general characteristics.<br>\n",
    "To define an abstract method we use the @abstractmethod decorator of the abc module\n"
   ]
  },
  {
   "cell_type": "code",
   "execution_count": 1,
   "id": "38505a98",
   "metadata": {},
   "outputs": [],
   "source": [
    "from abc import ABC, abstractmethod\n",
    "class Shape(ABC):\n",
    "    def __init__(self, shape_name):\n",
    "        self.shape_name = shape_name\n",
    "    \n",
    "    @abstractmethod\n",
    "    def draw(self):\n",
    "        pass\n",
    "    \n",
    "class Circle(Shape):\n",
    "    def __init__(self):\n",
    "        super().__init__(\"circle\")\n",
    " \n",
    "    def draw(self):                     ## overwriting draw method of Shape  class\n",
    "        print(\"Drawing a Circle\")"
   ]
  },
  {
   "cell_type": "markdown",
   "id": "e67c7a17",
   "metadata": {},
   "source": [
    "### 2. What happens when a class statement&#39;s top level contains a basic assignment statement?\n",
    "\n"
   ]
  },
  {
   "cell_type": "markdown",
   "id": "0d420e26",
   "metadata": {},
   "source": [
    " When class statement's top level contains a basic assignment statement, it is considered as class attribute. Change in the value of class attribute will affect all the instances of the class.<br>\n",
    "**Class attributes** belong to the class itself they will be shared by all the instances."
   ]
  },
  {
   "cell_type": "code",
   "execution_count": 2,
   "id": "c3995430",
   "metadata": {},
   "outputs": [
    {
     "name": "stdout",
     "output_type": "stream",
     "text": [
      "Class Attribute 0, Instance Attribute: 2\n",
      "After class Increase method: Class Attribute: 1\n"
     ]
    }
   ],
   "source": [
    "class Example :\n",
    "    sample=0\n",
    "    def __init__(self, val2):\n",
    "        self.val2=val2\n",
    "        \n",
    "    def increase(self):\n",
    "        Example.sample+=1\n",
    "        \n",
    "obj1=Example(2)\n",
    "print(f\"Class Attribute {Example.sample}, Instance Attribute: {obj1.val2}\")\n",
    "obj1.increase()\n",
    "print(f\"After class Increase method: Class Attribute: {Example.sample}\")"
   ]
  },
  {
   "cell_type": "markdown",
   "id": "29d47d84",
   "metadata": {},
   "source": [
    "### 3. Why does a class need to manually call a superclass&#39;s __init__ method?\n",
    "\n"
   ]
  },
  {
   "cell_type": "markdown",
   "id": "50c3836a",
   "metadata": {},
   "source": [
    "The super() function is used to refer to the parent class or superclass, enabling developer to extend and customize the functionality inherited from the parent class."
   ]
  },
  {
   "cell_type": "code",
   "execution_count": 4,
   "id": "c27e85c6",
   "metadata": {},
   "outputs": [
    {
     "name": "stdout",
     "output_type": "stream",
     "text": [
      "The ID is: 103\n",
      "The Name is: Suhasini\n",
      "The Address is: bangalore\n",
      "The Emails is: xyz.gmail.com\n"
     ]
    }
   ],
   "source": [
    "class Emp():\n",
    "    def __init__(self, id, name, Add):\n",
    "        self.id = id\n",
    "        self.name = name\n",
    "        self.Add = Add\n",
    " \n",
    "# Class freelancer inherits EMP\n",
    "class Freelance(Emp):\n",
    "    def __init__(self, id, name, Add, Emails):\n",
    "        super().__init__(id, name, Add)\n",
    "        self.Emails = Emails\n",
    " \n",
    "Emp_1 = Freelance(103, \"Suhasini\", \"bangalore\" , \"xyz.gmail.com\")\n",
    "print('The ID is:', Emp_1.id)\n",
    "print('The Name is:', Emp_1.name)\n",
    "print('The Address is:', Emp_1.Add)\n",
    "print('The Emails is:', Emp_1.Emails)"
   ]
  },
  {
   "cell_type": "markdown",
   "id": "f8ef3cf1",
   "metadata": {},
   "source": [
    "### 4. How can you augment, instead of completely replacing, an inherited method?\n",
    "\n"
   ]
  },
  {
   "cell_type": "markdown",
   "id": "c6337fe2",
   "metadata": {},
   "source": [
    "In Python augment /ectend parent class makes it easier for other subclasses to inherit the methods and “extend” them as required which as mentioned increases code reusability.\n"
   ]
  },
  {
   "cell_type": "code",
   "execution_count": 9,
   "id": "a6c2b881",
   "metadata": {},
   "outputs": [],
   "source": [
    "# definition of superclass \"Triangles\"\n",
    "class Employee:\n",
    "    def __init__(self,name,salary):\n",
    "        self.name=name\n",
    "        self.salary=salary\n",
    "            \n",
    "    def salraise(self, bonus=0.05):\n",
    "        self.salary= self.salary*(1+bonus)\n",
    "        return self.salary\n",
    "    \n",
    "class Manager(Employee):\n",
    "    def __init__(self,name,salary,bonus):\n",
    "        self.bonus=bonus\n",
    "        super().__init__(name,salary)\n",
    "        \n",
    "    def salraise(self):\n",
    "        new_sal= super().salraise( self.bonus)\n",
    "        return new_sal\n",
    "    \n",
    "      "
   ]
  },
  {
   "cell_type": "code",
   "execution_count": 11,
   "id": "576f1dfb",
   "metadata": {},
   "outputs": [
    {
     "name": "stdout",
     "output_type": "stream",
     "text": [
      "1875000.0\n",
      "52500.0\n"
     ]
    }
   ],
   "source": [
    "obj1=Manager(\"Suhasini\",1500000, 0.25)\n",
    "print(obj1.salraise())\n",
    "\n",
    "obj2= Employee(\"Ajay\", 50000)\n",
    "print(obj2.salraise())\n"
   ]
  },
  {
   "cell_type": "markdown",
   "id": "4f261f1b",
   "metadata": {},
   "source": [
    "### 5. How is the local scope of a class different from that of a function?"
   ]
  },
  {
   "cell_type": "markdown",
   "id": "619333f5",
   "metadata": {},
   "source": [
    "In class, if the variable is declared without self then it is accessible within that function only, kind of local variable. However if it declared using self like self.variable_name = 'somevalue', then it is accessible via any object but not via the class name.\n",
    "\n",
    "Whereas, if a variable is declared within a function then it is a local variable and is accessible to that function only."
   ]
  }
 ],
 "metadata": {
  "kernelspec": {
   "display_name": "Python 3 (ipykernel)",
   "language": "python",
   "name": "python3"
  },
  "language_info": {
   "codemirror_mode": {
    "name": "ipython",
    "version": 3
   },
   "file_extension": ".py",
   "mimetype": "text/x-python",
   "name": "python",
   "nbconvert_exporter": "python",
   "pygments_lexer": "ipython3",
   "version": "3.10.9"
  }
 },
 "nbformat": 4,
 "nbformat_minor": 5
}
