{
 "cells": [
  {
   "cell_type": "markdown",
   "id": "696602c2",
   "metadata": {},
   "source": [
    "#### Q1. What is the concept of a metaclass?"
   ]
  },
  {
   "cell_type": "markdown",
   "id": "64ffdcb1",
   "metadata": {},
   "source": [
    "In object-oriented programming, a metaclass is a class whose instances are classes. Just as an ordinary class defines the behavior of certain objects, a metaclass defines the behavior of certain classes and their instances."
   ]
  },
  {
   "cell_type": "code",
   "execution_count": 1,
   "id": "acf281b6",
   "metadata": {},
   "outputs": [
    {
     "name": "stdout",
     "output_type": "stream",
     "text": [
      "Type of Student class is: <class 'type'>\n"
     ]
    }
   ],
   "source": [
    "class Firstclass:\n",
    "    pass\n",
    " \n",
    "# Print type of Student class\n",
    "print(\"Type of Student class is:\", type(Firstclass))"
   ]
  },
  {
   "cell_type": "markdown",
   "id": "56b05ecb",
   "metadata": {},
   "source": [
    "#### Q2. What is the best way to declare a class&#39;s metaclass?"
   ]
  },
  {
   "cell_type": "markdown",
   "id": "09282080",
   "metadata": {},
   "source": [
    "In python , we can customize the class creation process by passing the metaclass keyword in the class definition. This can also be done by inheriting a class that has already passed in this keyword ."
   ]
  },
  {
   "cell_type": "code",
   "execution_count": 3,
   "id": "7a129856",
   "metadata": {},
   "outputs": [],
   "source": [
    "class MyMeta(type):\n",
    "    pass\n",
    "class MyClass(metaclass=MyMeta):\n",
    "    pass\n",
    "class MySubclass(MyClass):\n",
    "    pass"
   ]
  },
  {
   "cell_type": "code",
   "execution_count": 4,
   "id": "38f5015d",
   "metadata": {
    "scrolled": true
   },
   "outputs": [
    {
     "name": "stdout",
     "output_type": "stream",
     "text": [
      "<class 'type'>\n",
      "<class '__main__.MyMeta'>\n",
      "<class '__main__.MyMeta'>\n"
     ]
    }
   ],
   "source": [
    "print(type(MyMeta))\n",
    "print(type(MyClass))\n",
    "print(type(MySubclass))"
   ]
  },
  {
   "cell_type": "markdown",
   "id": "e355c0fe",
   "metadata": {},
   "source": [
    "Metaclssess can also be defined in one of the two ways shown below :"
   ]
  },
  {
   "cell_type": "code",
   "execution_count": 5,
   "id": "40a43ffc",
   "metadata": {},
   "outputs": [],
   "source": [
    "class MetaOne(type):\n",
    "    def __new__(cls, name, bases, dict) :\n",
    "        pass\n",
    "    \n",
    "class MetaTwo(type):\n",
    "    def __new__(self, name, bases, dict) :\n",
    "        pass"
   ]
  },
  {
   "cell_type": "markdown",
   "id": "d29248c5",
   "metadata": {},
   "source": [
    "#### Q3. How do class decorators overlap with metaclasses for handling classes?"
   ]
  },
  {
   "cell_type": "markdown",
   "id": "192039dd",
   "metadata": {},
   "source": [
    "While decorators and metaclasses are two separate concepts, they can be used together to achieve more complex functionality. For example, you can use a decorator to add a method to a class, and then use a metaclass to modify the behavior of that method."
   ]
  },
  {
   "cell_type": "code",
   "execution_count": 7,
   "id": "50a06e27",
   "metadata": {},
   "outputs": [
    {
     "name": "stdout",
     "output_type": "stream",
     "text": [
      "Hello, World!\n",
      "Hello, World!\n"
     ]
    }
   ],
   "source": [
    "class LimitCall(type):\n",
    "    def __init__(cls, name, bases, attrs):\n",
    "        super().__init__(name, bases, attrs)\n",
    "        for key, value in attrs.items():\n",
    "            if hasattr(value, 'call_limit'):\n",
    "                setattr(cls, key, CallLimited(value, value.call_limit))\n",
    "\n",
    "class CallLimited:\n",
    "    def __init__(self, func, limit):\n",
    "        self.func = func\n",
    "        self.limit = limit\n",
    "        self.calls = 0\n",
    "\n",
    "    def __call__(self, *args, **kwargs):\n",
    "        if self.calls >= self.limit:\n",
    "            raise Exception(\"Call limit reached\")\n",
    "        self.calls += 1\n",
    "        return self.func(*args, **kwargs)\n",
    "\n",
    "def call_limited(limit):\n",
    "    def decorator(func):\n",
    "        func.call_limit = limit\n",
    "        return func\n",
    "    return decorator\n",
    "\n",
    "\n",
    "class MyClass(metaclass=LimitCall):\n",
    "    @call_limited(2)\n",
    "    def my_method():\n",
    "        print(\"Hello, World!\")\n",
    "\n",
    "\n",
    "a = MyClass()\n",
    "a.my_method()\n",
    "a.my_method()"
   ]
  },
  {
   "cell_type": "markdown",
   "id": "89aa1394",
   "metadata": {},
   "source": [
    "#### Q3. How do class decorators overlap with metaclasses for handling classes?"
   ]
  },
  {
   "cell_type": "markdown",
   "id": "f44f0b57",
   "metadata": {},
   "source": [
    "same as above"
   ]
  }
 ],
 "metadata": {
  "kernelspec": {
   "display_name": "Python 3 (ipykernel)",
   "language": "python",
   "name": "python3"
  },
  "language_info": {
   "codemirror_mode": {
    "name": "ipython",
    "version": 3
   },
   "file_extension": ".py",
   "mimetype": "text/x-python",
   "name": "python",
   "nbconvert_exporter": "python",
   "pygments_lexer": "ipython3",
   "version": "3.10.9"
  }
 },
 "nbformat": 4,
 "nbformat_minor": 5
}
