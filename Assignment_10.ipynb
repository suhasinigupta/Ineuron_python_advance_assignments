{
 "cells": [
  {
   "cell_type": "markdown",
   "id": "086966fa",
   "metadata": {},
   "source": [
    "#### Q1. What is the difference between __getattr__ and __getattribute__?"
   ]
  },
  {
   "cell_type": "markdown",
   "id": "f99bbd4e",
   "metadata": {},
   "source": [
    "A key difference between __getattr__ and __getattribute__ is that __getattr__ is only invoked if the attribute wasn't found the usual ways. It's good for implementing a fallback for missing attributes, and is probably the one of two we want.<br>\n",
    "\n",
    "__getattribute__ is invoked before looking at the actual attributes on the object, and so can be tricky to implement correctly."
   ]
  },
  {
   "cell_type": "code",
   "execution_count": 1,
   "id": "703e2aa8",
   "metadata": {},
   "outputs": [
    {
     "name": "stdout",
     "output_type": "stream",
     "text": [
      "1\n",
      "10\n",
      "0\n"
     ]
    }
   ],
   "source": [
    "class Count:\n",
    "    def __init__(self,mymin,mymax):\n",
    "        self.mymin=mymin\n",
    "        self.mymax=mymax    \n",
    "\n",
    "    def __getattr__(self, item):\n",
    "        self.__dict__[item]=0\n",
    "        return 0\n",
    "\n",
    "obj1 = Count(1,10)\n",
    "print(obj1.mymin)\n",
    "print(obj1.mymax)\n",
    "print(obj1.mycurrent1)"
   ]
  },
  {
   "cell_type": "code",
   "execution_count": 2,
   "id": "2ad648d3",
   "metadata": {},
   "outputs": [
    {
     "name": "stdout",
     "output_type": "stream",
     "text": [
      "New Value\n"
     ]
    }
   ],
   "source": [
    "class Dummy():\n",
    "\n",
    "    def __getattribute__(self, attr):\n",
    "        return 'New Value'\n",
    "\n",
    "d = Dummy()\n",
    "d.value = \"Old value\"\n",
    "print(d.value) "
   ]
  },
  {
   "cell_type": "markdown",
   "id": "cd413fd1",
   "metadata": {},
   "source": [
    "#### Q2. What is the difference between properties and descriptors?"
   ]
  },
  {
   "cell_type": "markdown",
   "id": "1f8b91be",
   "metadata": {},
   "source": [
    "Descriptors are a low-level mechanism that lets you hook into an object’s attributes being accessed. Properties are a high-level application of this; that is, properties are implemented using descriptors.<br>\n",
    "\n",
    "Python programming provides us with a built-in @property decorator which makes usage of getter and setters much easier in Object-Oriented Programming.<br>\n",
    "\n",
    "**What are descriptors Python?**\n",
    "\n",
    "Python descriptors are created to manage the attributes of different classes which use the object as reference. A descriptor is a mechanism behind properties, methods, static methods, class methods, and super() .<br>\n",
    "**How do you define a property in Python?**\n",
    "\n",
    "Define a Property. Let’s see how properties can be defined in Python. Here is a simple example in which the Person class is defined. This class has a single attribute named hidden_name which we do not want people to access directly. Hence, two methods are defined in the class – a getter called get_name () and a setter called set_name ().<br>\n",
    "\n",
    "**How is a descriptor used in a method in Python?**<br>\n",
    "Normally, Python uses methods like getters and setters to adjust the values on attributes without any special processing. It’s just a basic storage system. Sometimes, You might need to validate the values that are being assigned to a value. A descriptor is a mechanism behind properties, methods, static methods, class methods, and super ().\n"
   ]
  },
  {
   "cell_type": "markdown",
   "id": "f729fa30",
   "metadata": {},
   "source": [
    "#### Q3. What are the key differences in functionality between __getattr__ and __getattribute__, as well as properties and descriptors?\n"
   ]
  },
  {
   "cell_type": "markdown",
   "id": "b1ff7bc2",
   "metadata": {},
   "source": [
    "To access the attribute of class which are not defined in the class, we use getattr() method. But if the attribute does exist, getattr won’t be invoked. getattribute will look for every attribute, doesn’t matter if the attribute exists or not.\n",
    "\n",
    "In Properties, We can bind getter, setter functions with an attribute name, using the built-in property function. In descriptor, We can bind getter, setter (and deleter) functions into a separate class. We then assign an object of this class to the attribute name."
   ]
  }
 ],
 "metadata": {
  "kernelspec": {
   "display_name": "Python 3 (ipykernel)",
   "language": "python",
   "name": "python3"
  },
  "language_info": {
   "codemirror_mode": {
    "name": "ipython",
    "version": 3
   },
   "file_extension": ".py",
   "mimetype": "text/x-python",
   "name": "python",
   "nbconvert_exporter": "python",
   "pygments_lexer": "ipython3",
   "version": "3.10.9"
  }
 },
 "nbformat": 4,
 "nbformat_minor": 5
}
