{
 "cells": [
  {
   "cell_type": "markdown",
   "id": "d9b1ed62",
   "metadata": {},
   "source": [
    "### Q1. What is the relationship between classes and modules?\n",
    "***Classes*** in python are templates for creating objects. they contain variable and functions which define the class objects.<br>\n",
    "At the same time ***modules*** are python programs that can be imported into another python program.Importing a module enables the usage of the  module's functions and variables into another program.\n"
   ]
  },
  {
   "cell_type": "markdown",
   "id": "51974599",
   "metadata": {},
   "source": [
    "### Q2. How do you make instances and classes?\n",
    "**Classes** <br>\n",
    "- class in python is created using a class keyword then class variable name\n",
    "- defining class variable inside init method\n",
    "- defing class methods\n",
    "\n",
    "**Instances**\n",
    "-  Instantiating a class is done by creating a variable and setting it equal to the class name with parenthesis.\n",
    "\n"
   ]
  },
  {
   "cell_type": "code",
   "execution_count": 2,
   "id": "6a64007d",
   "metadata": {},
   "outputs": [
    {
     "data": {
      "text/plain": [
       "7"
      ]
     },
     "execution_count": 2,
     "metadata": {},
     "output_type": "execute_result"
    }
   ],
   "source": [
    "## creating class\n",
    "class Tester:\n",
    "    def __init__(self, a, b):\n",
    "        self.a=a\n",
    "        self.b= b\n",
    "    def add(self):\n",
    "        return self.a+self.b\n",
    "    \n",
    "## creating objects\n",
    "obj= Tester(3,4)\n",
    "obj.add()"
   ]
  },
  {
   "cell_type": "markdown",
   "id": "c542b7f1",
   "metadata": {},
   "source": [
    "### Q3. Where and how should be class attributes created?\n",
    "In python , class attributes are variables of a class that are shared between all of its instances. They are define outside the **__init__** method.\n"
   ]
  },
  {
   "cell_type": "markdown",
   "id": "90a478c0",
   "metadata": {},
   "source": [
    "### Q4. Where and how are instance attributes created?\n",
    "An instance attribute ia a python variable belonging to one na d one object . This is only accessible in the scope of the object and is defined inside the __init__ method\n"
   ]
  },
  {
   "cell_type": "code",
   "execution_count": 5,
   "id": "348b2549",
   "metadata": {},
   "outputs": [],
   "source": [
    "class Attributes:\n",
    "    class_att= 0  ## class attribute outside constructor\n",
    "    def __init__(self, name, age): ## name and age instance attribute define inside __init__\n",
    "        self.name=name\n",
    "        self.age=age\n",
    "        \n",
    "obj1= Attributes(\"Ajay\",24)\n",
    "obj2= Attributes(\"Sam\", 34)"
   ]
  },
  {
   "cell_type": "markdown",
   "id": "5e487011",
   "metadata": {},
   "source": [
    "### Q5. What does the term &quot;self&quot; in a Python class mean?\n",
    "In python's OOps whenever we define methods for a class, we use self as the first parameter in each class, including the init method. We knowm class is a blueprint for the objects. This blueprint can be used to create multiple numbers of objects . The self keyword is used to repesent an instance(object) of the given class. If there was no self argument the same class couldn't hold the information for all the objects of the specific class\n",
    "\n"
   ]
  },
  {
   "cell_type": "markdown",
   "id": "cc0c35d5",
   "metadata": {},
   "source": [
    "### Q6. How does a Python class handle operator overloading?\n",
    "\n",
    "Operator Overloading means giving extended meaning beyond their predefined operational meaning. For example operator + is used to add two integers as well as join two strings and merge two lists. To extend the same addition for objects( user defined daat-type) we define a method for an operator and that process is called operator overloading.\n"
   ]
  },
  {
   "cell_type": "code",
   "execution_count": 3,
   "id": "498768a0",
   "metadata": {},
   "outputs": [
    {
     "name": "stdout",
     "output_type": "stream",
     "text": [
      "3\n",
      "datascience\n",
      "3\n",
      "datascience\n"
     ]
    }
   ],
   "source": [
    "class Test:\n",
    "    def __init__(self, a):\n",
    "        self.a = a\n",
    " \n",
    "    # adding two objects\n",
    "    def __add__(self, obj):\n",
    "        return self.a + obj.a\n",
    "    \n",
    "ob1 = Test(1)\n",
    "ob2 = Test(2)\n",
    "ob3 = Test(\"data\")\n",
    "ob4 = Test(\"science\")\n",
    " \n",
    "print(ob1 + ob2)\n",
    "print(ob3 + ob4)\n",
    "\n",
    "print(ob1.__add__(ob2))\n",
    "print(ob3.__add__(ob4))"
   ]
  },
  {
   "cell_type": "markdown",
   "id": "0e757069",
   "metadata": {},
   "source": [
    "### Q7. When do you consider allowing operator overloading of your classes?\n",
    "- Improves code readability by allowing the use of familiar operators.\n",
    "- Ensures that objects of a class behave consistently with built-in types and other user-defined types.\n",
    "- Makes it simpler to write code, especially for complex data types.\n",
    "- Allows for code reuse by implementing one operator method and using it for other operators.\n"
   ]
  },
  {
   "cell_type": "markdown",
   "id": "199f16a6",
   "metadata": {},
   "source": [
    "### Q8. What are the two most important concepts to grasp in order to comprehend Python OOP code?\n",
    "Both inheritance and polymorphism are key ingredients for designing robust, flexible, and easy-to-maintain software\n",
    "- **Inheritance** It is the capability of one class to derive or inherit the properties from another class .\n",
    "- **Polymorphism** In programming, polymorphism means the same function name (but different signatures) being used for different types"
   ]
  },
  {
   "cell_type": "code",
   "execution_count": 8,
   "id": "6f67e5a7",
   "metadata": {},
   "outputs": [
    {
     "name": "stdout",
     "output_type": "stream",
     "text": [
      "56000\n",
      "58800.0\n"
     ]
    }
   ],
   "source": [
    "## Employee is the parent class having two attribute and a method give_raise by 5%\n",
    "class Employee():\n",
    "   def __init__(self, emp_id, salary):\n",
    "      self.emp_id = emp_id\n",
    "      self.salary = salary\n",
    "   def give_raise(self):\n",
    "      self.salary = self.salary * 1.05\n",
    "emp1 = Employee(1001, 56000)\n",
    "print(emp1.salary)\n",
    "emp1.give_raise()\n",
    "print(emp1.salary)\n"
   ]
  },
  {
   "cell_type": "code",
   "execution_count": 9,
   "id": "8b54b610",
   "metadata": {},
   "outputs": [
    {
     "name": "stdout",
     "output_type": "stream",
     "text": [
      "75000\n",
      "82500.0\n"
     ]
    }
   ],
   "source": [
    "## Manager inherits Employee class , it modifies the give_raise method \n",
    "class Manager(Employee):\n",
    "   def give_raise(self):\n",
    "      self.salary = self.salary * 1.10\n",
    "        \n",
    "mgr1 = Manager(101, 75000)\n",
    "print(mgr1.salary)\n",
    "\n",
    "mgr1.give_raise()\n",
    "print(mgr1.salary)\n"
   ]
  },
  {
   "cell_type": "markdown",
   "id": "cea744c4",
   "metadata": {},
   "source": [
    "**Both inheritance and polymorphism are fundamental concepts of object oriented programming.<br>\n",
    "These concepts help us to create code that can be extended and easily maintainable.**"
   ]
  },
  {
   "cell_type": "code",
   "execution_count": null,
   "id": "18dc8654",
   "metadata": {},
   "outputs": [],
   "source": []
  }
 ],
 "metadata": {
  "kernelspec": {
   "display_name": "Python 3 (ipykernel)",
   "language": "python",
   "name": "python3"
  },
  "language_info": {
   "codemirror_mode": {
    "name": "ipython",
    "version": 3
   },
   "file_extension": ".py",
   "mimetype": "text/x-python",
   "name": "python",
   "nbconvert_exporter": "python",
   "pygments_lexer": "ipython3",
   "version": "3.10.9"
  }
 },
 "nbformat": 4,
 "nbformat_minor": 5
}
