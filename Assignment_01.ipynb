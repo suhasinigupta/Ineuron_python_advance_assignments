{
 "cells": [
  {
   "cell_type": "markdown",
   "id": "553e60f9",
   "metadata": {},
   "source": [
    "### Q1. What is the purpose of Python's OOP?\n",
    " In python, object-oriented programming is a programming paradigm that uses objects and classes in  programming. The  ma in concept of OOPs is to  bind the data  and functions that work on that together as a single unit so that no other part of the code  can access this data .<br>\n",
    " <br> **Advantages of OOPs**\n",
    "- code reusability\n",
    "- flexibillity\n",
    "-  faster testing and debugging"
   ]
  },
  {
   "cell_type": "markdown",
   "id": "96034cc5",
   "metadata": {},
   "source": [
    "### Q2. Where does an inheritance search look for an attribute?\n",
    "**Concept of Method Resolution Order (MRO)** In case of multi inheritance, the child class will first search the attribute in its own class, if not then search in its parent class in depth-first, left- right order .This is class Method Resolution Order in python"
   ]
  },
  {
   "cell_type": "markdown",
   "id": "724842e8",
   "metadata": {},
   "source": [
    "### Q3. How do you distinguish between a class object and an instance object?\n",
    "**Class object** Class object is created when class is created. It contains static member variable. It is accessed by class name.<br>\n",
    "**Instance object** It an instance of class, all the data member and member functions of the class can be accessed with the help of object. A class can have multiple objects."
   ]
  },
  {
   "cell_type": "code",
   "execution_count": 2,
   "id": "d6909de3",
   "metadata": {},
   "outputs": [],
   "source": [
    "class Test:\n",
    "    x=10 \n",
    "    def __init__(self, a, b):\n",
    "            self.a=a \n",
    "            self.b=b "
   ]
  },
  {
   "cell_type": "code",
   "execution_count": 5,
   "id": "a994cc86",
   "metadata": {},
   "outputs": [
    {
     "name": "stdout",
     "output_type": "stream",
     "text": [
      "10\n",
      "<__main__.Test object at 0x000001D3843364D0>\n"
     ]
    }
   ],
   "source": [
    "## Class object \n",
    "print(Test.x)\n",
    "## class instance\n",
    "print(Test(2,3))"
   ]
  },
  {
   "cell_type": "markdown",
   "id": "54e55ed6",
   "metadata": {},
   "source": [
    "### Q4. What makes the first argument in a class’s method function special?\n",
    "In python's OOps whenever we define methods for a class, we use self as the first parameter in each class, including the __init__ method.\n",
    "We knowm class is a blueprint for the objects. This blueprint can be used to create multiple numbers of objects .\n",
    "The self keyword is used to repesent an instance(object) of the given class. If there was no self argument the same class couldn't hold the information for all the objects of the specific class\n",
    "\n"
   ]
  },
  {
   "cell_type": "markdown",
   "id": "866b2810",
   "metadata": {},
   "source": [
    "### 5. What is the purpose of the init method?\n",
    "The __init__ method is similar to constructors in other programming language. It rund as soon as an object of class is instantiated. The  method is useful to fo any initialization we want to do with your object ."
   ]
  },
  {
   "cell_type": "markdown",
   "id": "debe516e",
   "metadata": {},
   "source": [
    "### Q6. What is the process for creating a class instance?\n",
    "In Python , instantiating a class is done by creating a variable and setting it equal to the class name with parenthesis."
   ]
  },
  {
   "cell_type": "code",
   "execution_count": 1,
   "id": "86c53f94",
   "metadata": {},
   "outputs": [
    {
     "data": {
      "text/plain": [
       "2"
      ]
     },
     "execution_count": 1,
     "metadata": {},
     "output_type": "execute_result"
    }
   ],
   "source": [
    "class Test:\n",
    "    def __init__(self, a, b):\n",
    "        self.a=a\n",
    "        self.b= b\n",
    "\n",
    "test_obj= Test(2,4)  ## instantiating a class\n",
    "test_obj.a"
   ]
  },
  {
   "cell_type": "markdown",
   "id": "7c2bc014",
   "metadata": {},
   "source": [
    "### Q7. What is the process for creating a class?\n",
    "- class in python is created using a class keyword then class variable name\n",
    "- defining class variable inside init method\n",
    "- defing class methods"
   ]
  },
  {
   "cell_type": "code",
   "execution_count": 3,
   "id": "868e693c",
   "metadata": {},
   "outputs": [
    {
     "data": {
      "text/plain": [
       "135"
      ]
     },
     "execution_count": 3,
     "metadata": {},
     "output_type": "execute_result"
    }
   ],
   "source": [
    "class Tester:\n",
    "    def __init__(self, var1, var2):\n",
    "        self.var1=var1\n",
    "        self.var2=var2\n",
    "    \n",
    "    def add_var(self):\n",
    "        return self.var1+self.var2\n",
    "    \n",
    "## creating class object\n",
    "obj= Tester(45, 90)\n",
    "obj.add_var()"
   ]
  },
  {
   "cell_type": "markdown",
   "id": "cfc57b48",
   "metadata": {},
   "source": [
    "### Q8. How would you define the superclasses of a class?\n",
    "The super() function is used to give access to methods and properties of a parent or sibling class.\n",
    "The super() function returns an object that repressents the parent class"
   ]
  },
  {
   "cell_type": "code",
   "execution_count": 4,
   "id": "3fe615d2",
   "metadata": {},
   "outputs": [
    {
     "name": "stdout",
     "output_type": "stream",
     "text": [
      "Learning Data Science\n"
     ]
    }
   ],
   "source": [
    "class Parent:\n",
    "    def __init__(self,txt):\n",
    "        self.txt=txt\n",
    "        \n",
    "    def printtxt(self):\n",
    "        print(self.txt)\n",
    "        \n",
    "        \n",
    "class Child(Parent):\n",
    "    def __init__(self, txt):\n",
    "        super().__init__(txt)\n",
    "\n",
    "obj= Child(\"Learning Data Science\")\n",
    "obj.printtxt()"
   ]
  },
  {
   "cell_type": "code",
   "execution_count": null,
   "id": "a140849f",
   "metadata": {},
   "outputs": [],
   "source": []
  }
 ],
 "metadata": {
  "kernelspec": {
   "display_name": "Python 3 (ipykernel)",
   "language": "python",
   "name": "python3"
  },
  "language_info": {
   "codemirror_mode": {
    "name": "ipython",
    "version": 3
   },
   "file_extension": ".py",
   "mimetype": "text/x-python",
   "name": "python",
   "nbconvert_exporter": "python",
   "pygments_lexer": "ipython3",
   "version": "3.10.9"
  }
 },
 "nbformat": 4,
 "nbformat_minor": 5
}
