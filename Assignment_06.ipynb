{
 "cells": [
  {
   "cell_type": "markdown",
   "id": "90c09fb6",
   "metadata": {},
   "source": [
    "#### Q1. Describe three applications for exception processing."
   ]
  },
  {
   "cell_type": "markdown",
   "id": "709f82bf",
   "metadata": {},
   "source": [
    "- Reduce the development cost of exception handling (just one single line in a single catch clause).\n",
    "- Avoid the misunderstanding of try/catch and throws by eliminating the need for throws.\n",
    "- Make the actual exception handling centralized and implemented by the appropriate people.\n",
    "- Give developers the ability to plug their exception handling if required.\n",
    "- Make exception handling consistent across the whole application (e.g. a database down exception should be handled in the same way across all the system views).\n",
    "- The exception handling shouldn’t affect back-end and API’s when using different front-end technologies (e.g. web or native)."
   ]
  },
  {
   "cell_type": "markdown",
   "id": "c07a5287",
   "metadata": {},
   "source": [
    "#### Q2. What happens if you don't do something extra to treat an exception?"
   ]
  },
  {
   "cell_type": "markdown",
   "id": "4431861c",
   "metadata": {},
   "source": [
    "Whenever an exception occurs, the program stops the execution, and thus the further code is not executed. Therefore, an exception is the run-time errors that are unable to handle to Python script. An exception is a Python object that represents an error"
   ]
  },
  {
   "cell_type": "markdown",
   "id": "6e0b2e49",
   "metadata": {},
   "source": [
    "#### Q3. What are your options for recovering from an exception in your script?"
   ]
  },
  {
   "cell_type": "markdown",
   "id": "90841dd6",
   "metadata": {},
   "source": [
    "In Python we use try except block to handle exception ."
   ]
  },
  {
   "cell_type": "code",
   "execution_count": 1,
   "id": "f0d79bb7",
   "metadata": {},
   "outputs": [
    {
     "name": "stdout",
     "output_type": "stream",
     "text": [
      "Enter an integer value::12\n",
      "Enter an integer value::0\n",
      "division by zero\n",
      "Please enter an integer value\n",
      "Execution Completed!!\n"
     ]
    }
   ],
   "source": [
    "def calculation():\n",
    "        try:\n",
    "            a = int(input('Enter an integer value::'))\n",
    "            b= int(input('Enter an integer value::'))\n",
    "            c=a/b\n",
    "        except Exception as e:\n",
    "            print(e)\n",
    "            print('Please enter an integer value')\n",
    "           \n",
    "        else:\n",
    "            print(f'Division result is {c}')\n",
    "            \n",
    "        finally:\n",
    "            print('Execution Completed!!')\n",
    "        \n",
    "calculation()  "
   ]
  },
  {
   "cell_type": "markdown",
   "id": "129ae1a3",
   "metadata": {},
   "source": [
    "#### Q4. Describe two methods for triggering exceptions in your script.\n"
   ]
  },
  {
   "cell_type": "markdown",
   "id": "ec8be24e",
   "metadata": {},
   "source": [
    "Try --> this will throws an exception if its occured <br>\n",
    "Raise --> its used to throw exception as per user requirement"
   ]
  },
  {
   "cell_type": "code",
   "execution_count": 3,
   "id": "edd4cfbf",
   "metadata": {},
   "outputs": [
    {
     "name": "stdout",
     "output_type": "stream",
     "text": [
      "unsupported operand type(s) for +: 'int' and 'str'\n"
     ]
    }
   ],
   "source": [
    "## try method:\n",
    "def toadd():\n",
    "  try :\n",
    "    a= 12\n",
    "    b=\"S\"\n",
    "    c= a+ b\n",
    "    print(c)\n",
    "  except Exception as e:\n",
    "    print(e)\n",
    "\n",
    "toadd()"
   ]
  },
  {
   "cell_type": "code",
   "execution_count": 15,
   "id": "c7a2a1d0",
   "metadata": {},
   "outputs": [
    {
     "ename": "Exception",
     "evalue": "Number should be even",
     "output_type": "error",
     "traceback": [
      "\u001b[1;31m---------------------------------------------------------------------------\u001b[0m",
      "\u001b[1;31mException\u001b[0m                                 Traceback (most recent call last)",
      "Cell \u001b[1;32mIn[15], line 8\u001b[0m\n\u001b[0;32m      5\u001b[0m             \u001b[38;5;28;01mraise\u001b[39;00m \u001b[38;5;167;01mException\u001b[39;00m(\u001b[38;5;124m\"\u001b[39m\u001b[38;5;124mNumber should be even\u001b[39m\u001b[38;5;124m\"\u001b[39m)\n\u001b[0;32m      6\u001b[0m         \u001b[38;5;28mprint\u001b[39m(\u001b[38;5;124m\"\u001b[39m\u001b[38;5;124mAddition result is:\u001b[39m\u001b[38;5;124m\"\u001b[39m,c)\n\u001b[1;32m----> 8\u001b[0m \u001b[43maddeven\u001b[49m\u001b[43m(\u001b[49m\u001b[43m)\u001b[49m\n",
      "Cell \u001b[1;32mIn[15], line 5\u001b[0m, in \u001b[0;36maddeven\u001b[1;34m()\u001b[0m\n\u001b[0;32m      3\u001b[0m b\u001b[38;5;241m=\u001b[39m\u001b[38;5;241m10\u001b[39m\n\u001b[0;32m      4\u001b[0m \u001b[38;5;28;01mif\u001b[39;00m (a\u001b[38;5;241m%\u001b[39m\u001b[38;5;241m2\u001b[39m \u001b[38;5;241m!=\u001b[39m\u001b[38;5;241m0\u001b[39m \u001b[38;5;129;01mor\u001b[39;00m b\u001b[38;5;241m%\u001b[39m\u001b[38;5;241m2\u001b[39m \u001b[38;5;241m!=\u001b[39m \u001b[38;5;241m0\u001b[39m):\n\u001b[1;32m----> 5\u001b[0m     \u001b[38;5;28;01mraise\u001b[39;00m \u001b[38;5;167;01mException\u001b[39;00m(\u001b[38;5;124m\"\u001b[39m\u001b[38;5;124mNumber should be even\u001b[39m\u001b[38;5;124m\"\u001b[39m)\n\u001b[0;32m      6\u001b[0m \u001b[38;5;28mprint\u001b[39m(\u001b[38;5;124m\"\u001b[39m\u001b[38;5;124mAddition result is:\u001b[39m\u001b[38;5;124m\"\u001b[39m,c)\n",
      "\u001b[1;31mException\u001b[0m: Number should be even"
     ]
    }
   ],
   "source": [
    "def addeven():\n",
    "        a= 7\n",
    "        b=10\n",
    "        if (a%2 !=0 or b%2 != 0):\n",
    "            raise Exception(\"Number should be even\")\n",
    "        print(\"Addition result is:\",c)\n",
    "        \n",
    "addeven()     \n",
    "    \n",
    "       "
   ]
  },
  {
   "cell_type": "markdown",
   "id": "5bf019e6",
   "metadata": {},
   "source": [
    "#### Q5. Identify two methods for specifying actions to be executed at termination time, regardless of whether or not an exception exists.\n"
   ]
  },
  {
   "cell_type": "markdown",
   "id": "ec23a750",
   "metadata": {},
   "source": [
    "else and fially block"
   ]
  },
  {
   "cell_type": "code",
   "execution_count": 16,
   "id": "78b21355",
   "metadata": {},
   "outputs": [
    {
     "name": "stdout",
     "output_type": "stream",
     "text": [
      "Enter an integer value::12\n",
      "Enter an integer value::12\n",
      "Division result is 1.0\n",
      "Execution Completed!!\n"
     ]
    }
   ],
   "source": [
    "def calculation():\n",
    "        try:\n",
    "            a = int(input('Enter an integer value::'))\n",
    "            b= int(input('Enter an integer value::'))\n",
    "            c=a/b\n",
    "        except Exception as e:\n",
    "            print(e)\n",
    "            print('Please enter an integer value')\n",
    "           \n",
    "        else:\n",
    "            print(f'Division result is {c}')\n",
    "            \n",
    "        finally:\n",
    "            print('Execution Completed!!')\n",
    "        \n",
    "calculation()  "
   ]
  },
  {
   "cell_type": "code",
   "execution_count": null,
   "id": "ad4f609e",
   "metadata": {},
   "outputs": [],
   "source": []
  }
 ],
 "metadata": {
  "kernelspec": {
   "display_name": "Python 3 (ipykernel)",
   "language": "python",
   "name": "python3"
  },
  "language_info": {
   "codemirror_mode": {
    "name": "ipython",
    "version": 3
   },
   "file_extension": ".py",
   "mimetype": "text/x-python",
   "name": "python",
   "nbconvert_exporter": "python",
   "pygments_lexer": "ipython3",
   "version": "3.10.9"
  }
 },
 "nbformat": 4,
 "nbformat_minor": 5
}
