{
 "cells": [
  {
   "cell_type": "markdown",
   "id": "4a1c996f",
   "metadata": {},
   "source": [
    "#### Q1. In Python 3.X, what are the names and functions of string object types?"
   ]
  },
  {
   "cell_type": "markdown",
   "id": "9890129f",
   "metadata": {},
   "source": [
    "In Python 3.X and later, String objects has bulit in class named as \"str\" and it is used to store characters in memory in encoded format."
   ]
  },
  {
   "cell_type": "markdown",
   "id": "60f9dca3",
   "metadata": {},
   "source": [
    "#### Q2. How do the string forms in Python 3.X vary in terms of operations?"
   ]
  },
  {
   "cell_type": "markdown",
   "id": "c1ea567f",
   "metadata": {},
   "source": [
    "Python supports ASCII as a subset of Unicode. The default encoding of characters in Python is UTF-8 (Unicode Transformation Format - 8-bit).ASCII is really a 7-bit character set; it is mapped to 8-bit bytes by setting the high bit to zero. Thus, ASCII characters are unchanged in UTF-8. A non-zero high bit indicates that a character composed of multiple bytes."
   ]
  },
  {
   "cell_type": "code",
   "execution_count": 1,
   "id": "591fce95",
   "metadata": {},
   "outputs": [
    {
     "name": "stdout",
     "output_type": "stream",
     "text": [
      "105\n"
     ]
    }
   ],
   "source": [
    "u = 'Suhasini'\n",
    "print(ord(u[-1]))"
   ]
  },
  {
   "cell_type": "markdown",
   "id": "2d6b0204",
   "metadata": {},
   "source": [
    "#### Q3. In 3.X, how do you put non-ASCII Unicode characters in a string?"
   ]
  },
  {
   "cell_type": "markdown",
   "id": "8ac55ab6",
   "metadata": {},
   "source": [
    "As we know, there are only 127 ASCII characters in ascii table. It stores symbols, letters, whitespace characters, non printable characters, which are very less. So Python 3 has adopted unicode encoding of strings. for non ASCII u can get any value more than 127."
   ]
  },
  {
   "cell_type": "code",
   "execution_count": 3,
   "id": "9e2db6ce",
   "metadata": {},
   "outputs": [
    {
     "name": "stdout",
     "output_type": "stream",
     "text": [
      "Suhasinil©\n"
     ]
    }
   ],
   "source": [
    "s = 'Suhasini'\n",
    "\n",
    "s += chr(108)+chr(169)\n",
    "print(s)"
   ]
  },
  {
   "cell_type": "markdown",
   "id": "b43cd3af",
   "metadata": {},
   "source": [
    "#### Q4. In Python 3.X, what are the key differences between text-mode and binary-mode files?"
   ]
  },
  {
   "cell_type": "markdown",
   "id": "c5bb645a",
   "metadata": {},
   "source": [
    "Files opened in binary mode (appending 'b' to the mode argument) return contents as bytes objects without any decoding. In text mode (the default, or when 't' is appended to the mode argument), the contents of the file are returned as strings, the bytes having been first decoded using a platform-dependent encoding or using the specified encoding if given."
   ]
  },
  {
   "cell_type": "markdown",
   "id": "1830552e",
   "metadata": {},
   "source": [
    "#### Q5. How can you interpret a Unicode text file containing text encoded in a different encoding than your platform's default?"
   ]
  },
  {
   "cell_type": "markdown",
   "id": "a6186ad0",
   "metadata": {},
   "source": [
    "While reading file, we can specify the encoding such as(utf16, utf32), so the file will be decoded according to that encoding and results are returned to the user."
   ]
  },
  {
   "cell_type": "code",
   "execution_count": 4,
   "id": "58071f72",
   "metadata": {},
   "outputs": [
    {
     "name": "stdout",
     "output_type": "stream",
     "text": [
      "this is sample text file for understanding encoding\n"
     ]
    }
   ],
   "source": [
    "text = \"this is sample text file for understanding encoding\"\n",
    "f = open('sample.txt','w', encoding='utf16')\n",
    "f.write(text)\n",
    "f.close()\n",
    "\n",
    "f = open('sample.txt','r', encoding='utf16')\n",
    "print(f.read())"
   ]
  },
  {
   "cell_type": "markdown",
   "id": "5785bb27",
   "metadata": {},
   "source": [
    "#### Q6. What is the best way to make a Unicode text file in a particular encoding format?"
   ]
  },
  {
   "cell_type": "markdown",
   "id": "96a9cba2",
   "metadata": {},
   "source": [
    "#### Q7. What qualifies ASCII text as a form of Unicode text?"
   ]
  },
  {
   "cell_type": "markdown",
   "id": "49ed9b1e",
   "metadata": {},
   "source": [
    "The first 128 Unicode code points represent the equivalent ASCII characters. They have the same meaning in both ASCII and unicode. Since UTF-8 encodes each of these characters with a single byte, any ASCII text is also a UTF-8 text. Unicode is a superset of ASCII."
   ]
  },
  {
   "cell_type": "markdown",
   "id": "1ed0bec5",
   "metadata": {},
   "source": [
    "#### Q8. How much of an effect does the change in string types in Python 3.X have on your code?"
   ]
  },
  {
   "cell_type": "markdown",
   "id": "95fc547b",
   "metadata": {},
   "source": [
    "In Python 3.X and later, there is only one string type that is unicode. So no effect on the code."
   ]
  },
  {
   "cell_type": "code",
   "execution_count": null,
   "id": "2af4100f",
   "metadata": {},
   "outputs": [],
   "source": []
  }
 ],
 "metadata": {
  "kernelspec": {
   "display_name": "Python 3 (ipykernel)",
   "language": "python",
   "name": "python3"
  },
  "language_info": {
   "codemirror_mode": {
    "name": "ipython",
    "version": 3
   },
   "file_extension": ".py",
   "mimetype": "text/x-python",
   "name": "python",
   "nbconvert_exporter": "python",
   "pygments_lexer": "ipython3",
   "version": "3.10.9"
  }
 },
 "nbformat": 4,
 "nbformat_minor": 5
}
