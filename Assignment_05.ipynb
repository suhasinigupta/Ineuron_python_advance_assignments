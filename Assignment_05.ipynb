{
 "cells": [
  {
   "cell_type": "markdown",
   "id": "91842388",
   "metadata": {},
   "source": [
    "#### Q1. What is the meaning of multiple inheritance?\n"
   ]
  },
  {
   "cell_type": "markdown",
   "id": "b130894d",
   "metadata": {},
   "source": [
    "When a class is derived from more than one base class it is called **multiple Inheritance** . The derived class inherits all the features of the base case."
   ]
  },
  {
   "cell_type": "code",
   "execution_count": 3,
   "id": "fbcdfcce",
   "metadata": {},
   "outputs": [
    {
     "name": "stdout",
     "output_type": "stream",
     "text": [
      "This is home\n",
      "This is Employee class\n"
     ]
    }
   ],
   "source": [
    "class Organisation:\n",
    "    def __init__(self):\n",
    "        print(\"This is organization\")\n",
    "\n",
    "class Home:\n",
    "    def __init__(self):\n",
    "        print('This is home')\n",
    "        \n",
    "class Employee(Home, Organisation):\n",
    "    def __init__(self):\n",
    "        super().__init__()\n",
    "        print(\"This is Employee class\")\n",
    "\n",
    "obj= Employee()"
   ]
  },
  {
   "cell_type": "markdown",
   "id": "6c215444",
   "metadata": {},
   "source": [
    "#### Q2. What is the concept of delegation?"
   ]
  },
  {
   "cell_type": "markdown",
   "id": "3a80aef7",
   "metadata": {},
   "source": [
    "In Python, delegation refers to the process of passing a method call from one object to another object that performs the actual behavior of the method. Delegation is a design pattern that allows objects to collaborate with each other in a flexible and dynamic way."
   ]
  },
  {
   "cell_type": "code",
   "execution_count": 4,
   "id": "77cd68c1",
   "metadata": {},
   "outputs": [
    {
     "name": "stdout",
     "output_type": "stream",
     "text": [
      "Delegate doing something\n"
     ]
    }
   ],
   "source": [
    "class Delegate:\n",
    "    def do_something(self):\n",
    "        print('Delegate doing something')\n",
    "\n",
    "class Delegator:\n",
    "    def __init__(self, delegate):\n",
    "        self.delegate = delegate\n",
    "\n",
    "    def do_something(self):\n",
    "        self.delegate.do_something()\n",
    "\n",
    "delegate = Delegate()\n",
    "delegator = Delegator(delegate)\n",
    "delegator.do_something() "
   ]
  },
  {
   "cell_type": "markdown",
   "id": "47d246fa",
   "metadata": {},
   "source": [
    "#### Q3. What is the concept of composition?"
   ]
  },
  {
   "cell_type": "markdown",
   "id": "cc127b0e",
   "metadata": {},
   "source": [
    "It is one of the fundamental concepts of Object-Oriented Programming. In this concept, we will describe a class that references to one or more objects of other classes as an Instance variable. Here, by using the class name or by creating the object we can access the members of one class inside another class. It enables creating complex types by combining objects of different classes. It means that a class Composite can contain an object of another class Component. This type of relationship is known as Has-A Relation.\n"
   ]
  },
  {
   "cell_type": "code",
   "execution_count": 6,
   "id": "34b9d052",
   "metadata": {},
   "outputs": [
    {
     "data": {
      "text/plain": [
       "'Details are Name: Neil ,Address is 455 near Shiv Temple ,Indore,MP'"
      ]
     },
     "execution_count": 6,
     "metadata": {},
     "output_type": "execute_result"
    }
   ],
   "source": [
    "class Address:\n",
    "    def __init__(self, state,city,houseno,landmark):\n",
    "        self.state= state\n",
    "        self.city=city\n",
    "        self.houseno= houseno\n",
    "        self.landmark=landmark\n",
    "        \n",
    "    def getaddress(self):\n",
    "        return f\"Address is {self.houseno} near {self.landmark} ,{self.city},{self.state}\"\n",
    "    \n",
    "class Student:\n",
    "    def __init__(self,name,state,city,houseno,landmark):\n",
    "        self.name=name\n",
    "        self.address= Address(state,city,houseno,landmark)\n",
    "        \n",
    "    def getdetail(self):\n",
    "        add= self.address.getaddress()\n",
    "        return f\"Details are Name: {self.name} ,{self.address.getaddress()}\"\n",
    "\n",
    "stu1= Student(\"Neil\",\"MP\",\"Indore\",\"455\",'Shiv Temple')\n",
    "stu1.getdetail()\n",
    "    "
   ]
  },
  {
   "cell_type": "markdown",
   "id": "555abe5a",
   "metadata": {},
   "source": [
    "#### Q4. What are bound methods and how do we use them?"
   ]
  },
  {
   "cell_type": "markdown",
   "id": "3142ce5f",
   "metadata": {},
   "source": [
    "A bound method is the one which is dependent on the instance of the class as the first argument. It passes the instance as the first argument which is used to access the variables and functions"
   ]
  },
  {
   "cell_type": "code",
   "execution_count": 11,
   "id": "c0066f5a",
   "metadata": {},
   "outputs": [
    {
     "name": "stdout",
     "output_type": "stream",
     "text": [
      "Value of arg =  22\n",
      "None\n"
     ]
    }
   ],
   "source": [
    "class A:\n",
    "    def __init__(self, val):\n",
    "        self.val=val\n",
    "    \n",
    "    def func(self, arg):\n",
    "        self.arg = arg\n",
    "        print(\"Value of arg = \", arg.val)\n",
    "  \n",
    "  \n",
    "# Creating an instance\n",
    "obj = A(23)  \n",
    "obj2=A(22)\n",
    "  \n",
    "# bound method\n",
    "print(obj.func(obj2))"
   ]
  },
  {
   "cell_type": "markdown",
   "id": "7a5968cb",
   "metadata": {},
   "source": [
    "#### Q5. What is the purpose of pseudoprivate attributes?"
   ]
  },
  {
   "cell_type": "markdown",
   "id": "41be15bd",
   "metadata": {},
   "source": [
    "In Python, there is no existence of “Private” instance variables that cannot be accessed except inside an object. However, a convention is being followed by most Python code and coders i.e., a name prefixed with an underscore,  should be treated as a non-public part of the API or any Python code, ans is accessed by _classname__varname"
   ]
  },
  {
   "cell_type": "code",
   "execution_count": 1,
   "id": "987bbab3",
   "metadata": {},
   "outputs": [],
   "source": [
    "class Car:\n",
    "    def __init__(self, doors, windows,enginetype):\n",
    "        self.doors=doors\n",
    "        self.windows=windows\n",
    "        self.__enginetype= enginetype\n",
    "        \n"
   ]
  },
  {
   "cell_type": "code",
   "execution_count": 2,
   "id": "20610d1a",
   "metadata": {},
   "outputs": [],
   "source": [
    "obj1= Car(4,4,\"Petrol\")"
   ]
  },
  {
   "cell_type": "code",
   "execution_count": 3,
   "id": "3ba3c51d",
   "metadata": {},
   "outputs": [
    {
     "data": {
      "text/plain": [
       "['_Car__enginetype',\n",
       " '__class__',\n",
       " '__delattr__',\n",
       " '__dict__',\n",
       " '__dir__',\n",
       " '__doc__',\n",
       " '__eq__',\n",
       " '__format__',\n",
       " '__ge__',\n",
       " '__getattribute__',\n",
       " '__gt__',\n",
       " '__hash__',\n",
       " '__init__',\n",
       " '__init_subclass__',\n",
       " '__le__',\n",
       " '__lt__',\n",
       " '__module__',\n",
       " '__ne__',\n",
       " '__new__',\n",
       " '__reduce__',\n",
       " '__reduce_ex__',\n",
       " '__repr__',\n",
       " '__setattr__',\n",
       " '__sizeof__',\n",
       " '__str__',\n",
       " '__subclasshook__',\n",
       " '__weakref__',\n",
       " 'doors',\n",
       " 'windows']"
      ]
     },
     "execution_count": 3,
     "metadata": {},
     "output_type": "execute_result"
    }
   ],
   "source": [
    "dir(obj1)"
   ]
  },
  {
   "cell_type": "code",
   "execution_count": 4,
   "id": "a3c5faa0",
   "metadata": {},
   "outputs": [
    {
     "name": "stdout",
     "output_type": "stream",
     "text": [
      "4\n"
     ]
    },
    {
     "ename": "AttributeError",
     "evalue": "'Car' object has no attribute '__enginetype'",
     "output_type": "error",
     "traceback": [
      "\u001b[1;31m---------------------------------------------------------------------------\u001b[0m",
      "\u001b[1;31mAttributeError\u001b[0m                            Traceback (most recent call last)",
      "Cell \u001b[1;32mIn[4], line 4\u001b[0m\n\u001b[0;32m      1\u001b[0m \u001b[38;5;28mprint\u001b[39m(obj1\u001b[38;5;241m.\u001b[39mdoors)\n\u001b[0;32m      3\u001b[0m \u001b[38;5;66;03m## Exception will occur when printing __enginetype\u001b[39;00m\n\u001b[1;32m----> 4\u001b[0m \u001b[38;5;28mprint\u001b[39m(\u001b[43mobj1\u001b[49m\u001b[38;5;241;43m.\u001b[39;49m\u001b[43m__enginetype\u001b[49m)\n",
      "\u001b[1;31mAttributeError\u001b[0m: 'Car' object has no attribute '__enginetype'"
     ]
    }
   ],
   "source": [
    "print(obj1.doors)\n",
    "\n",
    "## Exception will occur when printing __enginetype\n",
    "print(obj1.__enginetype)"
   ]
  },
  {
   "cell_type": "code",
   "execution_count": 8,
   "id": "466b7616",
   "metadata": {},
   "outputs": [
    {
     "name": "stdout",
     "output_type": "stream",
     "text": [
      "Petrol\n"
     ]
    }
   ],
   "source": [
    "## To access variable will use _classname__varname\n",
    "print(obj1._Car__enginetype)"
   ]
  },
  {
   "cell_type": "code",
   "execution_count": null,
   "id": "5f2b57e0",
   "metadata": {},
   "outputs": [],
   "source": []
  }
 ],
 "metadata": {
  "kernelspec": {
   "display_name": "Python 3 (ipykernel)",
   "language": "python",
   "name": "python3"
  },
  "language_info": {
   "codemirror_mode": {
    "name": "ipython",
    "version": 3
   },
   "file_extension": ".py",
   "mimetype": "text/x-python",
   "name": "python",
   "nbconvert_exporter": "python",
   "pygments_lexer": "ipython3",
   "version": "3.10.9"
  }
 },
 "nbformat": 4,
 "nbformat_minor": 5
}
